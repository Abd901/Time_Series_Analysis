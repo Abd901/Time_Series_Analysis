{
  "nbformat": 4,
  "nbformat_minor": 0,
  "metadata": {
    "colab": {
      "name": "Moving_Averages.ipynb",
      "provenance": [],
      "authorship_tag": "ABX9TyNqpYFPMzW7RjAmNKDGNNCB",
      "include_colab_link": true
    },
    "kernelspec": {
      "name": "python3",
      "display_name": "Python 3"
    }
  },
  "cells": [
    {
      "cell_type": "markdown",
      "metadata": {
        "id": "view-in-github",
        "colab_type": "text"
      },
      "source": [
        "<a href=\"https://colab.research.google.com/github/Devansharma/Time_Series_Analysis/blob/master/Moving_Averages.ipynb\" target=\"_parent\"><img src=\"https://colab.research.google.com/assets/colab-badge.svg\" alt=\"Open In Colab\"/></a>"
      ]
    },
    {
      "cell_type": "code",
      "metadata": {
        "id": "2EnH_8zPhRsM",
        "colab_type": "code",
        "colab": {}
      },
      "source": [
        "import matplotlib as mpl\n",
        "import matplotlib.pyplot as plt\n",
        "import numpy as np\n",
        "import os\n",
        "from datetime import datetime\n",
        "import pandas as pd\n",
        "\n",
        "mpl.rcParams['figure.figsize'] = (10,8)\n",
        "mpl.rcParams['axes.grid'] = False"
      ],
      "execution_count": 1,
      "outputs": []
    },
    {
      "cell_type": "code",
      "metadata": {
        "id": "khIvW6noiGwA",
        "colab_type": "code",
        "colab": {}
      },
      "source": [
        "def parse(x):\n",
        "  return datetime.strptime(x, '%m/%d/%Y') "
      ],
      "execution_count": 4,
      "outputs": []
    },
    {
      "cell_type": "code",
      "metadata": {
        "id": "QuB2HrubiUWO",
        "colab_type": "code",
        "colab": {}
      },
      "source": [
        "df = pd.read_csv('https://raw.githubusercontent.com/srivatsan88/YouTubeLI/master/dataset/electricity_consumption.csv', \n",
        "                 parse_dates=['Bill_Date'], date_parser=parse)"
      ],
      "execution_count": 6,
      "outputs": []
    },
    {
      "cell_type": "code",
      "metadata": {
        "id": "lkD_U9f6k4AC",
        "colab_type": "code",
        "colab": {
          "base_uri": "https://localhost:8080/",
          "height": 204
        },
        "outputId": "cdcb014e-680f-48c9-f483-c42a6bccbcd8"
      },
      "source": [
        "df.head()"
      ],
      "execution_count": 8,
      "outputs": [
        {
          "output_type": "execute_result",
          "data": {
            "text/html": [
              "<div>\n",
              "<style scoped>\n",
              "    .dataframe tbody tr th:only-of-type {\n",
              "        vertical-align: middle;\n",
              "    }\n",
              "\n",
              "    .dataframe tbody tr th {\n",
              "        vertical-align: top;\n",
              "    }\n",
              "\n",
              "    .dataframe thead th {\n",
              "        text-align: right;\n",
              "    }\n",
              "</style>\n",
              "<table border=\"1\" class=\"dataframe\">\n",
              "  <thead>\n",
              "    <tr style=\"text-align: right;\">\n",
              "      <th></th>\n",
              "      <th>Bill_Date</th>\n",
              "      <th>On_peak</th>\n",
              "      <th>Off_peak</th>\n",
              "      <th>Usage_charge</th>\n",
              "      <th>Billed_amount</th>\n",
              "      <th>Billing_days</th>\n",
              "    </tr>\n",
              "  </thead>\n",
              "  <tbody>\n",
              "    <tr>\n",
              "      <th>0</th>\n",
              "      <td>2016-01-01</td>\n",
              "      <td>365</td>\n",
              "      <td>1423.5</td>\n",
              "      <td>219.0</td>\n",
              "      <td>247.73</td>\n",
              "      <td>31</td>\n",
              "    </tr>\n",
              "    <tr>\n",
              "      <th>1</th>\n",
              "      <td>2016-02-01</td>\n",
              "      <td>292</td>\n",
              "      <td>1138.8</td>\n",
              "      <td>175.2</td>\n",
              "      <td>234.11</td>\n",
              "      <td>31</td>\n",
              "    </tr>\n",
              "    <tr>\n",
              "      <th>2</th>\n",
              "      <td>2016-03-01</td>\n",
              "      <td>130</td>\n",
              "      <td>507.0</td>\n",
              "      <td>78.0</td>\n",
              "      <td>123.85</td>\n",
              "      <td>29</td>\n",
              "    </tr>\n",
              "    <tr>\n",
              "      <th>3</th>\n",
              "      <td>2016-04-01</td>\n",
              "      <td>117</td>\n",
              "      <td>456.3</td>\n",
              "      <td>70.2</td>\n",
              "      <td>111.22</td>\n",
              "      <td>29</td>\n",
              "    </tr>\n",
              "    <tr>\n",
              "      <th>4</th>\n",
              "      <td>2016-05-01</td>\n",
              "      <td>136</td>\n",
              "      <td>530.4</td>\n",
              "      <td>81.6</td>\n",
              "      <td>118.37</td>\n",
              "      <td>29</td>\n",
              "    </tr>\n",
              "  </tbody>\n",
              "</table>\n",
              "</div>"
            ],
            "text/plain": [
              "   Bill_Date  On_peak  Off_peak  Usage_charge  Billed_amount  Billing_days\n",
              "0 2016-01-01      365    1423.5         219.0         247.73            31\n",
              "1 2016-02-01      292    1138.8         175.2         234.11            31\n",
              "2 2016-03-01      130     507.0          78.0         123.85            29\n",
              "3 2016-04-01      117     456.3          70.2         111.22            29\n",
              "4 2016-05-01      136     530.4          81.6         118.37            29"
            ]
          },
          "metadata": {
            "tags": []
          },
          "execution_count": 8
        }
      ]
    },
    {
      "cell_type": "code",
      "metadata": {
        "id": "sC94AJ3wjnbu",
        "colab_type": "code",
        "colab": {
          "base_uri": "https://localhost:8080/",
          "height": 377
        },
        "outputId": "a43e47eb-439b-4f80-9e71-96045c5c1da2"
      },
      "source": [
        "print('Row: ',df.shape[0])\n",
        "print('Columns: ', df.shape[1])\n",
        "print('\\nFeatues: ', df.columns.tolist())\n",
        "print('\\nMissing Values: ', df.isnull().any())\n",
        "print('\\nUnique Values: ', df.nunique())"
      ],
      "execution_count": 7,
      "outputs": [
        {
          "output_type": "stream",
          "text": [
            "Row:  53\n",
            "Columns:  6\n",
            "\n",
            "Featues:  ['Bill_Date', 'On_peak', 'Off_peak', 'Usage_charge', 'Billed_amount', 'Billing_days']\n",
            "\n",
            "Missing Values:  Bill_Date        False\n",
            "On_peak          False\n",
            "Off_peak         False\n",
            "Usage_charge     False\n",
            "Billed_amount    False\n",
            "Billing_days     False\n",
            "dtype: bool\n",
            "\n",
            "Unique Values:  Bill_Date        53\n",
            "On_peak          51\n",
            "Off_peak         53\n",
            "Usage_charge     53\n",
            "Billed_amount    52\n",
            "Billing_days      9\n",
            "dtype: int64\n"
          ],
          "name": "stdout"
        }
      ]
    },
    {
      "cell_type": "code",
      "metadata": {
        "id": "fNiEwfRckzVj",
        "colab_type": "code",
        "colab": {}
      },
      "source": [
        "bill_df = df.set_index('Bill_Date')"
      ],
      "execution_count": 10,
      "outputs": []
    },
    {
      "cell_type": "code",
      "metadata": {
        "id": "ZpZWpcv4lOE5",
        "colab_type": "code",
        "colab": {}
      },
      "source": [
        "bill_2018 = bill_df['2016':'2018'][['Billed_amount']]"
      ],
      "execution_count": 11,
      "outputs": []
    },
    {
      "cell_type": "code",
      "metadata": {
        "id": "Y9XGMSpxlaoM",
        "colab_type": "code",
        "colab": {
          "base_uri": "https://localhost:8080/",
          "height": 1000
        },
        "outputId": "affcd3e2-9878-4bc1-96f7-bf1eed6f9ba6"
      },
      "source": [
        "bill_2018"
      ],
      "execution_count": 12,
      "outputs": [
        {
          "output_type": "execute_result",
          "data": {
            "text/html": [
              "<div>\n",
              "<style scoped>\n",
              "    .dataframe tbody tr th:only-of-type {\n",
              "        vertical-align: middle;\n",
              "    }\n",
              "\n",
              "    .dataframe tbody tr th {\n",
              "        vertical-align: top;\n",
              "    }\n",
              "\n",
              "    .dataframe thead th {\n",
              "        text-align: right;\n",
              "    }\n",
              "</style>\n",
              "<table border=\"1\" class=\"dataframe\">\n",
              "  <thead>\n",
              "    <tr style=\"text-align: right;\">\n",
              "      <th></th>\n",
              "      <th>Billed_amount</th>\n",
              "    </tr>\n",
              "    <tr>\n",
              "      <th>Bill_Date</th>\n",
              "      <th></th>\n",
              "    </tr>\n",
              "  </thead>\n",
              "  <tbody>\n",
              "    <tr>\n",
              "      <th>2016-01-01</th>\n",
              "      <td>247.73</td>\n",
              "    </tr>\n",
              "    <tr>\n",
              "      <th>2016-02-01</th>\n",
              "      <td>234.11</td>\n",
              "    </tr>\n",
              "    <tr>\n",
              "      <th>2016-03-01</th>\n",
              "      <td>123.85</td>\n",
              "    </tr>\n",
              "    <tr>\n",
              "      <th>2016-04-01</th>\n",
              "      <td>111.22</td>\n",
              "    </tr>\n",
              "    <tr>\n",
              "      <th>2016-05-01</th>\n",
              "      <td>118.37</td>\n",
              "    </tr>\n",
              "    <tr>\n",
              "      <th>2016-06-01</th>\n",
              "      <td>77.81</td>\n",
              "    </tr>\n",
              "    <tr>\n",
              "      <th>2016-07-01</th>\n",
              "      <td>86.67</td>\n",
              "    </tr>\n",
              "    <tr>\n",
              "      <th>2016-08-01</th>\n",
              "      <td>122.40</td>\n",
              "    </tr>\n",
              "    <tr>\n",
              "      <th>2016-09-01</th>\n",
              "      <td>223.62</td>\n",
              "    </tr>\n",
              "    <tr>\n",
              "      <th>2016-10-01</th>\n",
              "      <td>152.54</td>\n",
              "    </tr>\n",
              "    <tr>\n",
              "      <th>2016-11-01</th>\n",
              "      <td>150.54</td>\n",
              "    </tr>\n",
              "    <tr>\n",
              "      <th>2016-12-01</th>\n",
              "      <td>244.37</td>\n",
              "    </tr>\n",
              "    <tr>\n",
              "      <th>2017-01-01</th>\n",
              "      <td>263.64</td>\n",
              "    </tr>\n",
              "    <tr>\n",
              "      <th>2017-02-01</th>\n",
              "      <td>214.32</td>\n",
              "    </tr>\n",
              "    <tr>\n",
              "      <th>2017-03-01</th>\n",
              "      <td>151.54</td>\n",
              "    </tr>\n",
              "    <tr>\n",
              "      <th>2017-04-01</th>\n",
              "      <td>118.79</td>\n",
              "    </tr>\n",
              "    <tr>\n",
              "      <th>2017-05-01</th>\n",
              "      <td>153.18</td>\n",
              "    </tr>\n",
              "    <tr>\n",
              "      <th>2017-06-01</th>\n",
              "      <td>212.08</td>\n",
              "    </tr>\n",
              "    <tr>\n",
              "      <th>2017-07-01</th>\n",
              "      <td>281.19</td>\n",
              "    </tr>\n",
              "    <tr>\n",
              "      <th>2017-08-01</th>\n",
              "      <td>237.97</td>\n",
              "    </tr>\n",
              "    <tr>\n",
              "      <th>2017-09-01</th>\n",
              "      <td>284.30</td>\n",
              "    </tr>\n",
              "    <tr>\n",
              "      <th>2017-10-01</th>\n",
              "      <td>172.69</td>\n",
              "    </tr>\n",
              "    <tr>\n",
              "      <th>2017-11-01</th>\n",
              "      <td>111.51</td>\n",
              "    </tr>\n",
              "    <tr>\n",
              "      <th>2017-12-01</th>\n",
              "      <td>151.42</td>\n",
              "    </tr>\n",
              "    <tr>\n",
              "      <th>2018-01-01</th>\n",
              "      <td>267.32</td>\n",
              "    </tr>\n",
              "    <tr>\n",
              "      <th>2018-02-01</th>\n",
              "      <td>201.35</td>\n",
              "    </tr>\n",
              "    <tr>\n",
              "      <th>2018-03-01</th>\n",
              "      <td>202.91</td>\n",
              "    </tr>\n",
              "    <tr>\n",
              "      <th>2018-04-01</th>\n",
              "      <td>150.86</td>\n",
              "    </tr>\n",
              "    <tr>\n",
              "      <th>2018-05-01</th>\n",
              "      <td>163.07</td>\n",
              "    </tr>\n",
              "    <tr>\n",
              "      <th>2018-06-01</th>\n",
              "      <td>219.76</td>\n",
              "    </tr>\n",
              "    <tr>\n",
              "      <th>2018-07-01</th>\n",
              "      <td>283.98</td>\n",
              "    </tr>\n",
              "    <tr>\n",
              "      <th>2018-08-01</th>\n",
              "      <td>290.15</td>\n",
              "    </tr>\n",
              "    <tr>\n",
              "      <th>2018-09-01</th>\n",
              "      <td>257.96</td>\n",
              "    </tr>\n",
              "    <tr>\n",
              "      <th>2018-10-01</th>\n",
              "      <td>327.19</td>\n",
              "    </tr>\n",
              "    <tr>\n",
              "      <th>2018-11-01</th>\n",
              "      <td>193.49</td>\n",
              "    </tr>\n",
              "    <tr>\n",
              "      <th>2018-12-01</th>\n",
              "      <td>152.34</td>\n",
              "    </tr>\n",
              "  </tbody>\n",
              "</table>\n",
              "</div>"
            ],
            "text/plain": [
              "            Billed_amount\n",
              "Bill_Date                \n",
              "2016-01-01         247.73\n",
              "2016-02-01         234.11\n",
              "2016-03-01         123.85\n",
              "2016-04-01         111.22\n",
              "2016-05-01         118.37\n",
              "2016-06-01          77.81\n",
              "2016-07-01          86.67\n",
              "2016-08-01         122.40\n",
              "2016-09-01         223.62\n",
              "2016-10-01         152.54\n",
              "2016-11-01         150.54\n",
              "2016-12-01         244.37\n",
              "2017-01-01         263.64\n",
              "2017-02-01         214.32\n",
              "2017-03-01         151.54\n",
              "2017-04-01         118.79\n",
              "2017-05-01         153.18\n",
              "2017-06-01         212.08\n",
              "2017-07-01         281.19\n",
              "2017-08-01         237.97\n",
              "2017-09-01         284.30\n",
              "2017-10-01         172.69\n",
              "2017-11-01         111.51\n",
              "2017-12-01         151.42\n",
              "2018-01-01         267.32\n",
              "2018-02-01         201.35\n",
              "2018-03-01         202.91\n",
              "2018-04-01         150.86\n",
              "2018-05-01         163.07\n",
              "2018-06-01         219.76\n",
              "2018-07-01         283.98\n",
              "2018-08-01         290.15\n",
              "2018-09-01         257.96\n",
              "2018-10-01         327.19\n",
              "2018-11-01         193.49\n",
              "2018-12-01         152.34"
            ]
          },
          "metadata": {
            "tags": []
          },
          "execution_count": 12
        }
      ]
    },
    {
      "cell_type": "markdown",
      "metadata": {
        "id": "OBikbXsEliMZ",
        "colab_type": "text"
      },
      "source": [
        "*Simple* Moving Average"
      ]
    },
    {
      "cell_type": "code",
      "metadata": {
        "id": "3R1uxqdjldMk",
        "colab_type": "code",
        "colab": {
          "base_uri": "https://localhost:8080/",
          "height": 663
        },
        "outputId": "1ba57803-26cd-4c4b-ae3c-663dfd499a2b"
      },
      "source": [
        "bill_2018['Billed_amount'].rolling(window=3).mean()"
      ],
      "execution_count": 14,
      "outputs": [
        {
          "output_type": "execute_result",
          "data": {
            "text/plain": [
              "Bill_Date\n",
              "2016-01-01           NaN\n",
              "2016-02-01           NaN\n",
              "2016-03-01    201.896667\n",
              "2016-04-01    156.393333\n",
              "2016-05-01    117.813333\n",
              "2016-06-01    102.466667\n",
              "2016-07-01     94.283333\n",
              "2016-08-01     95.626667\n",
              "2016-09-01    144.230000\n",
              "2016-10-01    166.186667\n",
              "2016-11-01    175.566667\n",
              "2016-12-01    182.483333\n",
              "2017-01-01    219.516667\n",
              "2017-02-01    240.776667\n",
              "2017-03-01    209.833333\n",
              "2017-04-01    161.550000\n",
              "2017-05-01    141.170000\n",
              "2017-06-01    161.350000\n",
              "2017-07-01    215.483333\n",
              "2017-08-01    243.746667\n",
              "2017-09-01    267.820000\n",
              "2017-10-01    231.653333\n",
              "2017-11-01    189.500000\n",
              "2017-12-01    145.206667\n",
              "2018-01-01    176.750000\n",
              "2018-02-01    206.696667\n",
              "2018-03-01    223.860000\n",
              "2018-04-01    185.040000\n",
              "2018-05-01    172.280000\n",
              "2018-06-01    177.896667\n",
              "2018-07-01    222.270000\n",
              "2018-08-01    264.630000\n",
              "2018-09-01    277.363333\n",
              "2018-10-01    291.766667\n",
              "2018-11-01    259.546667\n",
              "2018-12-01    224.340000\n",
              "Name: Billed_amount, dtype: float64"
            ]
          },
          "metadata": {
            "tags": []
          },
          "execution_count": 14
        }
      ]
    },
    {
      "cell_type": "code",
      "metadata": {
        "id": "L23K8asPl2iG",
        "colab_type": "code",
        "colab": {}
      },
      "source": [
        "bill_2018['ma_rolling_3'] = bill_2018['Billed_amount'].rolling(window=3).mean().shift(1)"
      ],
      "execution_count": 15,
      "outputs": []
    },
    {
      "cell_type": "code",
      "metadata": {
        "id": "vHXVvY0Amg1l",
        "colab_type": "code",
        "colab": {
          "base_uri": "https://localhost:8080/",
          "height": 1000
        },
        "outputId": "1206b9cc-0208-4c56-e484-31aa7a1fc988"
      },
      "source": [
        "bill_2018"
      ],
      "execution_count": 16,
      "outputs": [
        {
          "output_type": "execute_result",
          "data": {
            "text/html": [
              "<div>\n",
              "<style scoped>\n",
              "    .dataframe tbody tr th:only-of-type {\n",
              "        vertical-align: middle;\n",
              "    }\n",
              "\n",
              "    .dataframe tbody tr th {\n",
              "        vertical-align: top;\n",
              "    }\n",
              "\n",
              "    .dataframe thead th {\n",
              "        text-align: right;\n",
              "    }\n",
              "</style>\n",
              "<table border=\"1\" class=\"dataframe\">\n",
              "  <thead>\n",
              "    <tr style=\"text-align: right;\">\n",
              "      <th></th>\n",
              "      <th>Billed_amount</th>\n",
              "      <th>ma_rolling_3</th>\n",
              "    </tr>\n",
              "    <tr>\n",
              "      <th>Bill_Date</th>\n",
              "      <th></th>\n",
              "      <th></th>\n",
              "    </tr>\n",
              "  </thead>\n",
              "  <tbody>\n",
              "    <tr>\n",
              "      <th>2016-01-01</th>\n",
              "      <td>247.73</td>\n",
              "      <td>NaN</td>\n",
              "    </tr>\n",
              "    <tr>\n",
              "      <th>2016-02-01</th>\n",
              "      <td>234.11</td>\n",
              "      <td>NaN</td>\n",
              "    </tr>\n",
              "    <tr>\n",
              "      <th>2016-03-01</th>\n",
              "      <td>123.85</td>\n",
              "      <td>NaN</td>\n",
              "    </tr>\n",
              "    <tr>\n",
              "      <th>2016-04-01</th>\n",
              "      <td>111.22</td>\n",
              "      <td>201.896667</td>\n",
              "    </tr>\n",
              "    <tr>\n",
              "      <th>2016-05-01</th>\n",
              "      <td>118.37</td>\n",
              "      <td>156.393333</td>\n",
              "    </tr>\n",
              "    <tr>\n",
              "      <th>2016-06-01</th>\n",
              "      <td>77.81</td>\n",
              "      <td>117.813333</td>\n",
              "    </tr>\n",
              "    <tr>\n",
              "      <th>2016-07-01</th>\n",
              "      <td>86.67</td>\n",
              "      <td>102.466667</td>\n",
              "    </tr>\n",
              "    <tr>\n",
              "      <th>2016-08-01</th>\n",
              "      <td>122.40</td>\n",
              "      <td>94.283333</td>\n",
              "    </tr>\n",
              "    <tr>\n",
              "      <th>2016-09-01</th>\n",
              "      <td>223.62</td>\n",
              "      <td>95.626667</td>\n",
              "    </tr>\n",
              "    <tr>\n",
              "      <th>2016-10-01</th>\n",
              "      <td>152.54</td>\n",
              "      <td>144.230000</td>\n",
              "    </tr>\n",
              "    <tr>\n",
              "      <th>2016-11-01</th>\n",
              "      <td>150.54</td>\n",
              "      <td>166.186667</td>\n",
              "    </tr>\n",
              "    <tr>\n",
              "      <th>2016-12-01</th>\n",
              "      <td>244.37</td>\n",
              "      <td>175.566667</td>\n",
              "    </tr>\n",
              "    <tr>\n",
              "      <th>2017-01-01</th>\n",
              "      <td>263.64</td>\n",
              "      <td>182.483333</td>\n",
              "    </tr>\n",
              "    <tr>\n",
              "      <th>2017-02-01</th>\n",
              "      <td>214.32</td>\n",
              "      <td>219.516667</td>\n",
              "    </tr>\n",
              "    <tr>\n",
              "      <th>2017-03-01</th>\n",
              "      <td>151.54</td>\n",
              "      <td>240.776667</td>\n",
              "    </tr>\n",
              "    <tr>\n",
              "      <th>2017-04-01</th>\n",
              "      <td>118.79</td>\n",
              "      <td>209.833333</td>\n",
              "    </tr>\n",
              "    <tr>\n",
              "      <th>2017-05-01</th>\n",
              "      <td>153.18</td>\n",
              "      <td>161.550000</td>\n",
              "    </tr>\n",
              "    <tr>\n",
              "      <th>2017-06-01</th>\n",
              "      <td>212.08</td>\n",
              "      <td>141.170000</td>\n",
              "    </tr>\n",
              "    <tr>\n",
              "      <th>2017-07-01</th>\n",
              "      <td>281.19</td>\n",
              "      <td>161.350000</td>\n",
              "    </tr>\n",
              "    <tr>\n",
              "      <th>2017-08-01</th>\n",
              "      <td>237.97</td>\n",
              "      <td>215.483333</td>\n",
              "    </tr>\n",
              "    <tr>\n",
              "      <th>2017-09-01</th>\n",
              "      <td>284.30</td>\n",
              "      <td>243.746667</td>\n",
              "    </tr>\n",
              "    <tr>\n",
              "      <th>2017-10-01</th>\n",
              "      <td>172.69</td>\n",
              "      <td>267.820000</td>\n",
              "    </tr>\n",
              "    <tr>\n",
              "      <th>2017-11-01</th>\n",
              "      <td>111.51</td>\n",
              "      <td>231.653333</td>\n",
              "    </tr>\n",
              "    <tr>\n",
              "      <th>2017-12-01</th>\n",
              "      <td>151.42</td>\n",
              "      <td>189.500000</td>\n",
              "    </tr>\n",
              "    <tr>\n",
              "      <th>2018-01-01</th>\n",
              "      <td>267.32</td>\n",
              "      <td>145.206667</td>\n",
              "    </tr>\n",
              "    <tr>\n",
              "      <th>2018-02-01</th>\n",
              "      <td>201.35</td>\n",
              "      <td>176.750000</td>\n",
              "    </tr>\n",
              "    <tr>\n",
              "      <th>2018-03-01</th>\n",
              "      <td>202.91</td>\n",
              "      <td>206.696667</td>\n",
              "    </tr>\n",
              "    <tr>\n",
              "      <th>2018-04-01</th>\n",
              "      <td>150.86</td>\n",
              "      <td>223.860000</td>\n",
              "    </tr>\n",
              "    <tr>\n",
              "      <th>2018-05-01</th>\n",
              "      <td>163.07</td>\n",
              "      <td>185.040000</td>\n",
              "    </tr>\n",
              "    <tr>\n",
              "      <th>2018-06-01</th>\n",
              "      <td>219.76</td>\n",
              "      <td>172.280000</td>\n",
              "    </tr>\n",
              "    <tr>\n",
              "      <th>2018-07-01</th>\n",
              "      <td>283.98</td>\n",
              "      <td>177.896667</td>\n",
              "    </tr>\n",
              "    <tr>\n",
              "      <th>2018-08-01</th>\n",
              "      <td>290.15</td>\n",
              "      <td>222.270000</td>\n",
              "    </tr>\n",
              "    <tr>\n",
              "      <th>2018-09-01</th>\n",
              "      <td>257.96</td>\n",
              "      <td>264.630000</td>\n",
              "    </tr>\n",
              "    <tr>\n",
              "      <th>2018-10-01</th>\n",
              "      <td>327.19</td>\n",
              "      <td>277.363333</td>\n",
              "    </tr>\n",
              "    <tr>\n",
              "      <th>2018-11-01</th>\n",
              "      <td>193.49</td>\n",
              "      <td>291.766667</td>\n",
              "    </tr>\n",
              "    <tr>\n",
              "      <th>2018-12-01</th>\n",
              "      <td>152.34</td>\n",
              "      <td>259.546667</td>\n",
              "    </tr>\n",
              "  </tbody>\n",
              "</table>\n",
              "</div>"
            ],
            "text/plain": [
              "            Billed_amount  ma_rolling_3\n",
              "Bill_Date                              \n",
              "2016-01-01         247.73           NaN\n",
              "2016-02-01         234.11           NaN\n",
              "2016-03-01         123.85           NaN\n",
              "2016-04-01         111.22    201.896667\n",
              "2016-05-01         118.37    156.393333\n",
              "2016-06-01          77.81    117.813333\n",
              "2016-07-01          86.67    102.466667\n",
              "2016-08-01         122.40     94.283333\n",
              "2016-09-01         223.62     95.626667\n",
              "2016-10-01         152.54    144.230000\n",
              "2016-11-01         150.54    166.186667\n",
              "2016-12-01         244.37    175.566667\n",
              "2017-01-01         263.64    182.483333\n",
              "2017-02-01         214.32    219.516667\n",
              "2017-03-01         151.54    240.776667\n",
              "2017-04-01         118.79    209.833333\n",
              "2017-05-01         153.18    161.550000\n",
              "2017-06-01         212.08    141.170000\n",
              "2017-07-01         281.19    161.350000\n",
              "2017-08-01         237.97    215.483333\n",
              "2017-09-01         284.30    243.746667\n",
              "2017-10-01         172.69    267.820000\n",
              "2017-11-01         111.51    231.653333\n",
              "2017-12-01         151.42    189.500000\n",
              "2018-01-01         267.32    145.206667\n",
              "2018-02-01         201.35    176.750000\n",
              "2018-03-01         202.91    206.696667\n",
              "2018-04-01         150.86    223.860000\n",
              "2018-05-01         163.07    185.040000\n",
              "2018-06-01         219.76    172.280000\n",
              "2018-07-01         283.98    177.896667\n",
              "2018-08-01         290.15    222.270000\n",
              "2018-09-01         257.96    264.630000\n",
              "2018-10-01         327.19    277.363333\n",
              "2018-11-01         193.49    291.766667\n",
              "2018-12-01         152.34    259.546667"
            ]
          },
          "metadata": {
            "tags": []
          },
          "execution_count": 16
        }
      ]
    },
    {
      "cell_type": "code",
      "metadata": {
        "id": "Ri828SMTmiSG",
        "colab_type": "code",
        "colab": {
          "base_uri": "https://localhost:8080/",
          "height": 309
        },
        "outputId": "cc501df5-c719-4070-f44d-6ef5c8d0533d"
      },
      "source": [
        "bill_2018.plot()"
      ],
      "execution_count": 17,
      "outputs": [
        {
          "output_type": "execute_result",
          "data": {
            "text/plain": [
              "<matplotlib.axes._subplots.AxesSubplot at 0x7f4a3c01fcc0>"
            ]
          },
          "metadata": {
            "tags": []
          },
          "execution_count": 17
        },
        {
          "output_type": "display_data",
          "data": {
            "image/png": "[encoded data removed]",
            "text/plain": [
              "<Figure size 432x288 with 1 Axes>"
            ]
          },
          "metadata": {
            "tags": [],
            "needs_background": "light"
          }
        }
      ]
    },
    {
      "cell_type": "markdown",
      "metadata": {
        "id": "MmV6ZMo1xsTO",
        "colab_type": "text"
      },
      "source": [
        "Weighted Moving Average"
      ]
    },
    {
      "cell_type": "code",
      "metadata": {
        "id": "CGS0VERuxivm",
        "colab_type": "code",
        "colab": {}
      },
      "source": [
        "def wma(weights):\n",
        "  def calc(x):\n",
        "    return (weights*x).mean()\n",
        "  return calc\n"
      ],
      "execution_count": 18,
      "outputs": []
    },
    {
      "cell_type": "code",
      "metadata": {
        "id": "nJE3VGwFyDsm",
        "colab_type": "code",
        "colab": {
          "base_uri": "https://localhost:8080/",
          "height": 663
        },
        "outputId": "31f11e91-0989-4108-d8a4-cd72aff0d561"
      },
      "source": [
        "bill_2018['Billed_amount'].rolling(window=3).apply(wma(np.array([0.5,1,1.5])))"
      ],
      "execution_count": 20,
      "outputs": [
        {
          "output_type": "execute_result",
          "data": {
            "text/plain": [
              "Bill_Date\n",
              "2016-01-01           NaN\n",
              "2016-02-01           NaN\n",
              "2016-03-01    181.250000\n",
              "2016-04-01    135.911667\n",
              "2016-05-01    116.900000\n",
              "2016-06-01     96.898333\n",
              "2016-07-01     89.000000\n",
              "2016-08-01    103.058333\n",
              "2016-09-01    167.055000\n",
              "2016-10-01    171.210000\n",
              "2016-11-01    163.386667\n",
              "2016-12-01    197.788333\n",
              "2017-01-01    238.366667\n",
              "2017-02-01    235.768333\n",
              "2017-03-01    191.150000\n",
              "2017-04-01    145.628333\n",
              "2017-05-01    141.443333\n",
              "2017-06-01    176.898333\n",
              "2017-07-01    236.818333\n",
              "2017-08-01    248.061667\n",
              "2017-09-01    268.338333\n",
              "2017-10-01    220.773333\n",
              "2017-11-01    160.701667\n",
              "2017-12-01    141.661667\n",
              "2018-01-01    202.718333\n",
              "2018-02-01    215.018333\n",
              "2018-03-01    213.125000\n",
              "2018-04-01    176.625000\n",
              "2018-05-01    165.640000\n",
              "2018-06-01    189.380000\n",
              "2018-07-01    242.421667\n",
              "2018-08-01    276.361667\n",
              "2018-09-01    273.026667\n",
              "2018-10-01    297.940000\n",
              "2018-11-01    248.801667\n",
              "2018-12-01    195.198333\n",
              "Name: Billed_amount, dtype: float64"
            ]
          },
          "metadata": {
            "tags": []
          },
          "execution_count": 20
        }
      ]
    },
    {
      "cell_type": "code",
      "metadata": {
        "id": "bWfUq1wQyXBL",
        "colab_type": "code",
        "colab": {}
      },
      "source": [
        "bill_2018['wma_rolling_3']=bill_2018['Billed_amount'].rolling(window=3).apply(wma(np.array([0.5,1,1.5]))).shift(1)"
      ],
      "execution_count": 23,
      "outputs": []
    },
    {
      "cell_type": "code",
      "metadata": {
        "id": "7wFuc0nCyuHI",
        "colab_type": "code",
        "colab": {
          "base_uri": "https://localhost:8080/",
          "height": 1000
        },
        "outputId": "a3c215b0-37bd-4222-a61f-db973ff49878"
      },
      "source": [
        "bill_2018"
      ],
      "execution_count": 24,
      "outputs": [
        {
          "output_type": "execute_result",
          "data": {
            "text/html": [
              "<div>\n",
              "<style scoped>\n",
              "    .dataframe tbody tr th:only-of-type {\n",
              "        vertical-align: middle;\n",
              "    }\n",
              "\n",
              "    .dataframe tbody tr th {\n",
              "        vertical-align: top;\n",
              "    }\n",
              "\n",
              "    .dataframe thead th {\n",
              "        text-align: right;\n",
              "    }\n",
              "</style>\n",
              "<table border=\"1\" class=\"dataframe\">\n",
              "  <thead>\n",
              "    <tr style=\"text-align: right;\">\n",
              "      <th></th>\n",
              "      <th>Billed_amount</th>\n",
              "      <th>ma_rolling_3</th>\n",
              "      <th>wma_rolling_3</th>\n",
              "    </tr>\n",
              "    <tr>\n",
              "      <th>Bill_Date</th>\n",
              "      <th></th>\n",
              "      <th></th>\n",
              "      <th></th>\n",
              "    </tr>\n",
              "  </thead>\n",
              "  <tbody>\n",
              "    <tr>\n",
              "      <th>2016-01-01</th>\n",
              "      <td>247.73</td>\n",
              "      <td>NaN</td>\n",
              "      <td>NaN</td>\n",
              "    </tr>\n",
              "    <tr>\n",
              "      <th>2016-02-01</th>\n",
              "      <td>234.11</td>\n",
              "      <td>NaN</td>\n",
              "      <td>NaN</td>\n",
              "    </tr>\n",
              "    <tr>\n",
              "      <th>2016-03-01</th>\n",
              "      <td>123.85</td>\n",
              "      <td>NaN</td>\n",
              "      <td>NaN</td>\n",
              "    </tr>\n",
              "    <tr>\n",
              "      <th>2016-04-01</th>\n",
              "      <td>111.22</td>\n",
              "      <td>201.896667</td>\n",
              "      <td>181.250000</td>\n",
              "    </tr>\n",
              "    <tr>\n",
              "      <th>2016-05-01</th>\n",
              "      <td>118.37</td>\n",
              "      <td>156.393333</td>\n",
              "      <td>135.911667</td>\n",
              "    </tr>\n",
              "    <tr>\n",
              "      <th>2016-06-01</th>\n",
              "      <td>77.81</td>\n",
              "      <td>117.813333</td>\n",
              "      <td>116.900000</td>\n",
              "    </tr>\n",
              "    <tr>\n",
              "      <th>2016-07-01</th>\n",
              "      <td>86.67</td>\n",
              "      <td>102.466667</td>\n",
              "      <td>96.898333</td>\n",
              "    </tr>\n",
              "    <tr>\n",
              "      <th>2016-08-01</th>\n",
              "      <td>122.40</td>\n",
              "      <td>94.283333</td>\n",
              "      <td>89.000000</td>\n",
              "    </tr>\n",
              "    <tr>\n",
              "      <th>2016-09-01</th>\n",
              "      <td>223.62</td>\n",
              "      <td>95.626667</td>\n",
              "      <td>103.058333</td>\n",
              "    </tr>\n",
              "    <tr>\n",
              "      <th>2016-10-01</th>\n",
              "      <td>152.54</td>\n",
              "      <td>144.230000</td>\n",
              "      <td>167.055000</td>\n",
              "    </tr>\n",
              "    <tr>\n",
              "      <th>2016-11-01</th>\n",
              "      <td>150.54</td>\n",
              "      <td>166.186667</td>\n",
              "      <td>171.210000</td>\n",
              "    </tr>\n",
              "    <tr>\n",
              "      <th>2016-12-01</th>\n",
              "      <td>244.37</td>\n",
              "      <td>175.566667</td>\n",
              "      <td>163.386667</td>\n",
              "    </tr>\n",
              "    <tr>\n",
              "      <th>2017-01-01</th>\n",
              "      <td>263.64</td>\n",
              "      <td>182.483333</td>\n",
              "      <td>197.788333</td>\n",
              "    </tr>\n",
              "    <tr>\n",
              "      <th>2017-02-01</th>\n",
              "      <td>214.32</td>\n",
              "      <td>219.516667</td>\n",
              "      <td>238.366667</td>\n",
              "    </tr>\n",
              "    <tr>\n",
              "      <th>2017-03-01</th>\n",
              "      <td>151.54</td>\n",
              "      <td>240.776667</td>\n",
              "      <td>235.768333</td>\n",
              "    </tr>\n",
              "    <tr>\n",
              "      <th>2017-04-01</th>\n",
              "      <td>118.79</td>\n",
              "      <td>209.833333</td>\n",
              "      <td>191.150000</td>\n",
              "    </tr>\n",
              "    <tr>\n",
              "      <th>2017-05-01</th>\n",
              "      <td>153.18</td>\n",
              "      <td>161.550000</td>\n",
              "      <td>145.628333</td>\n",
              "    </tr>\n",
              "    <tr>\n",
              "      <th>2017-06-01</th>\n",
              "      <td>212.08</td>\n",
              "      <td>141.170000</td>\n",
              "      <td>141.443333</td>\n",
              "    </tr>\n",
              "    <tr>\n",
              "      <th>2017-07-01</th>\n",
              "      <td>281.19</td>\n",
              "      <td>161.350000</td>\n",
              "      <td>176.898333</td>\n",
              "    </tr>\n",
              "    <tr>\n",
              "      <th>2017-08-01</th>\n",
              "      <td>237.97</td>\n",
              "      <td>215.483333</td>\n",
              "      <td>236.818333</td>\n",
              "    </tr>\n",
              "    <tr>\n",
              "      <th>2017-09-01</th>\n",
              "      <td>284.30</td>\n",
              "      <td>243.746667</td>\n",
              "      <td>248.061667</td>\n",
              "    </tr>\n",
              "    <tr>\n",
              "      <th>2017-10-01</th>\n",
              "      <td>172.69</td>\n",
              "      <td>267.820000</td>\n",
              "      <td>268.338333</td>\n",
              "    </tr>\n",
              "    <tr>\n",
              "      <th>2017-11-01</th>\n",
              "      <td>111.51</td>\n",
              "      <td>231.653333</td>\n",
              "      <td>220.773333</td>\n",
              "    </tr>\n",
              "    <tr>\n",
              "      <th>2017-12-01</th>\n",
              "      <td>151.42</td>\n",
              "      <td>189.500000</td>\n",
              "      <td>160.701667</td>\n",
              "    </tr>\n",
              "    <tr>\n",
              "      <th>2018-01-01</th>\n",
              "      <td>267.32</td>\n",
              "      <td>145.206667</td>\n",
              "      <td>141.661667</td>\n",
              "    </tr>\n",
              "    <tr>\n",
              "      <th>2018-02-01</th>\n",
              "      <td>201.35</td>\n",
              "      <td>176.750000</td>\n",
              "      <td>202.718333</td>\n",
              "    </tr>\n",
              "    <tr>\n",
              "      <th>2018-03-01</th>\n",
              "      <td>202.91</td>\n",
              "      <td>206.696667</td>\n",
              "      <td>215.018333</td>\n",
              "    </tr>\n",
              "    <tr>\n",
              "      <th>2018-04-01</th>\n",
              "      <td>150.86</td>\n",
              "      <td>223.860000</td>\n",
              "      <td>213.125000</td>\n",
              "    </tr>\n",
              "    <tr>\n",
              "      <th>2018-05-01</th>\n",
              "      <td>163.07</td>\n",
              "      <td>185.040000</td>\n",
              "      <td>176.625000</td>\n",
              "    </tr>\n",
              "    <tr>\n",
              "      <th>2018-06-01</th>\n",
              "      <td>219.76</td>\n",
              "      <td>172.280000</td>\n",
              "      <td>165.640000</td>\n",
              "    </tr>\n",
              "    <tr>\n",
              "      <th>2018-07-01</th>\n",
              "      <td>283.98</td>\n",
              "      <td>177.896667</td>\n",
              "      <td>189.380000</td>\n",
              "    </tr>\n",
              "    <tr>\n",
              "      <th>2018-08-01</th>\n",
              "      <td>290.15</td>\n",
              "      <td>222.270000</td>\n",
              "      <td>242.421667</td>\n",
              "    </tr>\n",
              "    <tr>\n",
              "      <th>2018-09-01</th>\n",
              "      <td>257.96</td>\n",
              "      <td>264.630000</td>\n",
              "      <td>276.361667</td>\n",
              "    </tr>\n",
              "    <tr>\n",
              "      <th>2018-10-01</th>\n",
              "      <td>327.19</td>\n",
              "      <td>277.363333</td>\n",
              "      <td>273.026667</td>\n",
              "    </tr>\n",
              "    <tr>\n",
              "      <th>2018-11-01</th>\n",
              "      <td>193.49</td>\n",
              "      <td>291.766667</td>\n",
              "      <td>297.940000</td>\n",
              "    </tr>\n",
              "    <tr>\n",
              "      <th>2018-12-01</th>\n",
              "      <td>152.34</td>\n",
              "      <td>259.546667</td>\n",
              "      <td>248.801667</td>\n",
              "    </tr>\n",
              "  </tbody>\n",
              "</table>\n",
              "</div>"
            ],
            "text/plain": [
              "            Billed_amount  ma_rolling_3  wma_rolling_3\n",
              "Bill_Date                                             \n",
              "2016-01-01         247.73           NaN            NaN\n",
              "2016-02-01         234.11           NaN            NaN\n",
              "2016-03-01         123.85           NaN            NaN\n",
              "2016-04-01         111.22    201.896667     181.250000\n",
              "2016-05-01         118.37    156.393333     135.911667\n",
              "2016-06-01          77.81    117.813333     116.900000\n",
              "2016-07-01          86.67    102.466667      96.898333\n",
              "2016-08-01         122.40     94.283333      89.000000\n",
              "2016-09-01         223.62     95.626667     103.058333\n",
              "2016-10-01         152.54    144.230000     167.055000\n",
              "2016-11-01         150.54    166.186667     171.210000\n",
              "2016-12-01         244.37    175.566667     163.386667\n",
              "2017-01-01         263.64    182.483333     197.788333\n",
              "2017-02-01         214.32    219.516667     238.366667\n",
              "2017-03-01         151.54    240.776667     235.768333\n",
              "2017-04-01         118.79    209.833333     191.150000\n",
              "2017-05-01         153.18    161.550000     145.628333\n",
              "2017-06-01         212.08    141.170000     141.443333\n",
              "2017-07-01         281.19    161.350000     176.898333\n",
              "2017-08-01         237.97    215.483333     236.818333\n",
              "2017-09-01         284.30    243.746667     248.061667\n",
              "2017-10-01         172.69    267.820000     268.338333\n",
              "2017-11-01         111.51    231.653333     220.773333\n",
              "2017-12-01         151.42    189.500000     160.701667\n",
              "2018-01-01         267.32    145.206667     141.661667\n",
              "2018-02-01         201.35    176.750000     202.718333\n",
              "2018-03-01         202.91    206.696667     215.018333\n",
              "2018-04-01         150.86    223.860000     213.125000\n",
              "2018-05-01         163.07    185.040000     176.625000\n",
              "2018-06-01         219.76    172.280000     165.640000\n",
              "2018-07-01         283.98    177.896667     189.380000\n",
              "2018-08-01         290.15    222.270000     242.421667\n",
              "2018-09-01         257.96    264.630000     276.361667\n",
              "2018-10-01         327.19    277.363333     273.026667\n",
              "2018-11-01         193.49    291.766667     297.940000\n",
              "2018-12-01         152.34    259.546667     248.801667"
            ]
          },
          "metadata": {
            "tags": []
          },
          "execution_count": 24
        }
      ]
    },
    {
      "cell_type": "code",
      "metadata": {
        "id": "FsaoVNtLy777",
        "colab_type": "code",
        "colab": {
          "base_uri": "https://localhost:8080/",
          "height": 309
        },
        "outputId": "0d04c082-7242-49fb-819b-91b7347f9578"
      },
      "source": [
        "bill_2018.plot()"
      ],
      "execution_count": 25,
      "outputs": [
        {
          "output_type": "execute_result",
          "data": {
            "text/plain": [
              "<matplotlib.axes._subplots.AxesSubplot at 0x7f4a3a63c080>"
            ]
          },
          "metadata": {
            "tags": []
          },
          "execution_count": 25
        },
        {
          "output_type": "display_data",
          "data": {
            "image/png": "[encoded data removed]",
            "text/plain": [
              "<Figure size 432x288 with 1 Axes>"
            ]
          },
          "metadata": {
            "tags": [],
            "needs_background": "light"
          }
        }
      ]
    },
    {
      "cell_type": "markdown",
      "metadata": {
        "id": "lEbTVPhpzVpu",
        "colab_type": "text"
      },
      "source": [
        "Exponential Moving Average"
      ]
    },
    {
      "cell_type": "code",
      "metadata": {
        "id": "ayd2MbkmzDxu",
        "colab_type": "code",
        "colab": {
          "base_uri": "https://localhost:8080/",
          "height": 663
        },
        "outputId": "92982381-a7db-450a-b5d2-fdc5a6cc443f"
      },
      "source": [
        "bill_2018['Billed_amount'].ewm(span=3, adjust=False, min_periods=0).mean()"
      ],
      "execution_count": 27,
      "outputs": [
        {
          "output_type": "execute_result",
          "data": {
            "text/plain": [
              "Bill_Date\n",
              "2016-01-01    247.730000\n",
              "2016-02-01    240.920000\n",
              "2016-03-01    182.385000\n",
              "2016-04-01    146.802500\n",
              "2016-05-01    132.586250\n",
              "2016-06-01    105.198125\n",
              "2016-07-01     95.934063\n",
              "2016-08-01    109.167031\n",
              "2016-09-01    166.393516\n",
              "2016-10-01    159.466758\n",
              "2016-11-01    155.003379\n",
              "2016-12-01    199.686689\n",
              "2017-01-01    231.663345\n",
              "2017-02-01    222.991672\n",
              "2017-03-01    187.265836\n",
              "2017-04-01    153.027918\n",
              "2017-05-01    153.103959\n",
              "2017-06-01    182.591980\n",
              "2017-07-01    231.890990\n",
              "2017-08-01    234.930495\n",
              "2017-09-01    259.615247\n",
              "2017-10-01    216.152624\n",
              "2017-11-01    163.831312\n",
              "2017-12-01    157.625656\n",
              "2018-01-01    212.472828\n",
              "2018-02-01    206.911414\n",
              "2018-03-01    204.910707\n",
              "2018-04-01    177.885353\n",
              "2018-05-01    170.477677\n",
              "2018-06-01    195.118838\n",
              "2018-07-01    239.549419\n",
              "2018-08-01    264.849710\n",
              "2018-09-01    261.404855\n",
              "2018-10-01    294.297427\n",
              "2018-11-01    243.893714\n",
              "2018-12-01    198.116857\n",
              "Name: Billed_amount, dtype: float64"
            ]
          },
          "metadata": {
            "tags": []
          },
          "execution_count": 27
        }
      ]
    },
    {
      "cell_type": "code",
      "metadata": {
        "id": "Snpo3B0x08n0",
        "colab_type": "code",
        "colab": {}
      },
      "source": [
        "bill_2018['ewm_window_3']=bill_2018['Billed_amount'].ewm(span=3, adjust=False, min_periods=0).mean().shift(1)"
      ],
      "execution_count": 28,
      "outputs": []
    },
    {
      "cell_type": "code",
      "metadata": {
        "id": "F0qPSwA31h4Q",
        "colab_type": "code",
        "colab": {
          "base_uri": "https://localhost:8080/",
          "height": 1000
        },
        "outputId": "a395aec3-1c39-49b0-e699-254b4c1281d9"
      },
      "source": [
        "bill_2018"
      ],
      "execution_count": 29,
      "outputs": [
        {
          "output_type": "execute_result",
          "data": {
            "text/html": [
              "<div>\n",
              "<style scoped>\n",
              "    .dataframe tbody tr th:only-of-type {\n",
              "        vertical-align: middle;\n",
              "    }\n",
              "\n",
              "    .dataframe tbody tr th {\n",
              "        vertical-align: top;\n",
              "    }\n",
              "\n",
              "    .dataframe thead th {\n",
              "        text-align: right;\n",
              "    }\n",
              "</style>\n",
              "<table border=\"1\" class=\"dataframe\">\n",
              "  <thead>\n",
              "    <tr style=\"text-align: right;\">\n",
              "      <th></th>\n",
              "      <th>Billed_amount</th>\n",
              "      <th>ma_rolling_3</th>\n",
              "      <th>wma_rolling_3</th>\n",
              "      <th>ewm_window_3</th>\n",
              "    </tr>\n",
              "    <tr>\n",
              "      <th>Bill_Date</th>\n",
              "      <th></th>\n",
              "      <th></th>\n",
              "      <th></th>\n",
              "      <th></th>\n",
              "    </tr>\n",
              "  </thead>\n",
              "  <tbody>\n",
              "    <tr>\n",
              "      <th>2016-01-01</th>\n",
              "      <td>247.73</td>\n",
              "      <td>NaN</td>\n",
              "      <td>NaN</td>\n",
              "      <td>NaN</td>\n",
              "    </tr>\n",
              "    <tr>\n",
              "      <th>2016-02-01</th>\n",
              "      <td>234.11</td>\n",
              "      <td>NaN</td>\n",
              "      <td>NaN</td>\n",
              "      <td>247.730000</td>\n",
              "    </tr>\n",
              "    <tr>\n",
              "      <th>2016-03-01</th>\n",
              "      <td>123.85</td>\n",
              "      <td>NaN</td>\n",
              "      <td>NaN</td>\n",
              "      <td>240.920000</td>\n",
              "    </tr>\n",
              "    <tr>\n",
              "      <th>2016-04-01</th>\n",
              "      <td>111.22</td>\n",
              "      <td>201.896667</td>\n",
              "      <td>181.250000</td>\n",
              "      <td>182.385000</td>\n",
              "    </tr>\n",
              "    <tr>\n",
              "      <th>2016-05-01</th>\n",
              "      <td>118.37</td>\n",
              "      <td>156.393333</td>\n",
              "      <td>135.911667</td>\n",
              "      <td>146.802500</td>\n",
              "    </tr>\n",
              "    <tr>\n",
              "      <th>2016-06-01</th>\n",
              "      <td>77.81</td>\n",
              "      <td>117.813333</td>\n",
              "      <td>116.900000</td>\n",
              "      <td>132.586250</td>\n",
              "    </tr>\n",
              "    <tr>\n",
              "      <th>2016-07-01</th>\n",
              "      <td>86.67</td>\n",
              "      <td>102.466667</td>\n",
              "      <td>96.898333</td>\n",
              "      <td>105.198125</td>\n",
              "    </tr>\n",
              "    <tr>\n",
              "      <th>2016-08-01</th>\n",
              "      <td>122.40</td>\n",
              "      <td>94.283333</td>\n",
              "      <td>89.000000</td>\n",
              "      <td>95.934063</td>\n",
              "    </tr>\n",
              "    <tr>\n",
              "      <th>2016-09-01</th>\n",
              "      <td>223.62</td>\n",
              "      <td>95.626667</td>\n",
              "      <td>103.058333</td>\n",
              "      <td>109.167031</td>\n",
              "    </tr>\n",
              "    <tr>\n",
              "      <th>2016-10-01</th>\n",
              "      <td>152.54</td>\n",
              "      <td>144.230000</td>\n",
              "      <td>167.055000</td>\n",
              "      <td>166.393516</td>\n",
              "    </tr>\n",
              "    <tr>\n",
              "      <th>2016-11-01</th>\n",
              "      <td>150.54</td>\n",
              "      <td>166.186667</td>\n",
              "      <td>171.210000</td>\n",
              "      <td>159.466758</td>\n",
              "    </tr>\n",
              "    <tr>\n",
              "      <th>2016-12-01</th>\n",
              "      <td>244.37</td>\n",
              "      <td>175.566667</td>\n",
              "      <td>163.386667</td>\n",
              "      <td>155.003379</td>\n",
              "    </tr>\n",
              "    <tr>\n",
              "      <th>2017-01-01</th>\n",
              "      <td>263.64</td>\n",
              "      <td>182.483333</td>\n",
              "      <td>197.788333</td>\n",
              "      <td>199.686689</td>\n",
              "    </tr>\n",
              "    <tr>\n",
              "      <th>2017-02-01</th>\n",
              "      <td>214.32</td>\n",
              "      <td>219.516667</td>\n",
              "      <td>238.366667</td>\n",
              "      <td>231.663345</td>\n",
              "    </tr>\n",
              "    <tr>\n",
              "      <th>2017-03-01</th>\n",
              "      <td>151.54</td>\n",
              "      <td>240.776667</td>\n",
              "      <td>235.768333</td>\n",
              "      <td>222.991672</td>\n",
              "    </tr>\n",
              "    <tr>\n",
              "      <th>2017-04-01</th>\n",
              "      <td>118.79</td>\n",
              "      <td>209.833333</td>\n",
              "      <td>191.150000</td>\n",
              "      <td>187.265836</td>\n",
              "    </tr>\n",
              "    <tr>\n",
              "      <th>2017-05-01</th>\n",
              "      <td>153.18</td>\n",
              "      <td>161.550000</td>\n",
              "      <td>145.628333</td>\n",
              "      <td>153.027918</td>\n",
              "    </tr>\n",
              "    <tr>\n",
              "      <th>2017-06-01</th>\n",
              "      <td>212.08</td>\n",
              "      <td>141.170000</td>\n",
              "      <td>141.443333</td>\n",
              "      <td>153.103959</td>\n",
              "    </tr>\n",
              "    <tr>\n",
              "      <th>2017-07-01</th>\n",
              "      <td>281.19</td>\n",
              "      <td>161.350000</td>\n",
              "      <td>176.898333</td>\n",
              "      <td>182.591980</td>\n",
              "    </tr>\n",
              "    <tr>\n",
              "      <th>2017-08-01</th>\n",
              "      <td>237.97</td>\n",
              "      <td>215.483333</td>\n",
              "      <td>236.818333</td>\n",
              "      <td>231.890990</td>\n",
              "    </tr>\n",
              "    <tr>\n",
              "      <th>2017-09-01</th>\n",
              "      <td>284.30</td>\n",
              "      <td>243.746667</td>\n",
              "      <td>248.061667</td>\n",
              "      <td>234.930495</td>\n",
              "    </tr>\n",
              "    <tr>\n",
              "      <th>2017-10-01</th>\n",
              "      <td>172.69</td>\n",
              "      <td>267.820000</td>\n",
              "      <td>268.338333</td>\n",
              "      <td>259.615247</td>\n",
              "    </tr>\n",
              "    <tr>\n",
              "      <th>2017-11-01</th>\n",
              "      <td>111.51</td>\n",
              "      <td>231.653333</td>\n",
              "      <td>220.773333</td>\n",
              "      <td>216.152624</td>\n",
              "    </tr>\n",
              "    <tr>\n",
              "      <th>2017-12-01</th>\n",
              "      <td>151.42</td>\n",
              "      <td>189.500000</td>\n",
              "      <td>160.701667</td>\n",
              "      <td>163.831312</td>\n",
              "    </tr>\n",
              "    <tr>\n",
              "      <th>2018-01-01</th>\n",
              "      <td>267.32</td>\n",
              "      <td>145.206667</td>\n",
              "      <td>141.661667</td>\n",
              "      <td>157.625656</td>\n",
              "    </tr>\n",
              "    <tr>\n",
              "      <th>2018-02-01</th>\n",
              "      <td>201.35</td>\n",
              "      <td>176.750000</td>\n",
              "      <td>202.718333</td>\n",
              "      <td>212.472828</td>\n",
              "    </tr>\n",
              "    <tr>\n",
              "      <th>2018-03-01</th>\n",
              "      <td>202.91</td>\n",
              "      <td>206.696667</td>\n",
              "      <td>215.018333</td>\n",
              "      <td>206.911414</td>\n",
              "    </tr>\n",
              "    <tr>\n",
              "      <th>2018-04-01</th>\n",
              "      <td>150.86</td>\n",
              "      <td>223.860000</td>\n",
              "      <td>213.125000</td>\n",
              "      <td>204.910707</td>\n",
              "    </tr>\n",
              "    <tr>\n",
              "      <th>2018-05-01</th>\n",
              "      <td>163.07</td>\n",
              "      <td>185.040000</td>\n",
              "      <td>176.625000</td>\n",
              "      <td>177.885353</td>\n",
              "    </tr>\n",
              "    <tr>\n",
              "      <th>2018-06-01</th>\n",
              "      <td>219.76</td>\n",
              "      <td>172.280000</td>\n",
              "      <td>165.640000</td>\n",
              "      <td>170.477677</td>\n",
              "    </tr>\n",
              "    <tr>\n",
              "      <th>2018-07-01</th>\n",
              "      <td>283.98</td>\n",
              "      <td>177.896667</td>\n",
              "      <td>189.380000</td>\n",
              "      <td>195.118838</td>\n",
              "    </tr>\n",
              "    <tr>\n",
              "      <th>2018-08-01</th>\n",
              "      <td>290.15</td>\n",
              "      <td>222.270000</td>\n",
              "      <td>242.421667</td>\n",
              "      <td>239.549419</td>\n",
              "    </tr>\n",
              "    <tr>\n",
              "      <th>2018-09-01</th>\n",
              "      <td>257.96</td>\n",
              "      <td>264.630000</td>\n",
              "      <td>276.361667</td>\n",
              "      <td>264.849710</td>\n",
              "    </tr>\n",
              "    <tr>\n",
              "      <th>2018-10-01</th>\n",
              "      <td>327.19</td>\n",
              "      <td>277.363333</td>\n",
              "      <td>273.026667</td>\n",
              "      <td>261.404855</td>\n",
              "    </tr>\n",
              "    <tr>\n",
              "      <th>2018-11-01</th>\n",
              "      <td>193.49</td>\n",
              "      <td>291.766667</td>\n",
              "      <td>297.940000</td>\n",
              "      <td>294.297427</td>\n",
              "    </tr>\n",
              "    <tr>\n",
              "      <th>2018-12-01</th>\n",
              "      <td>152.34</td>\n",
              "      <td>259.546667</td>\n",
              "      <td>248.801667</td>\n",
              "      <td>243.893714</td>\n",
              "    </tr>\n",
              "  </tbody>\n",
              "</table>\n",
              "</div>"
            ],
            "text/plain": [
              "            Billed_amount  ma_rolling_3  wma_rolling_3  ewm_window_3\n",
              "Bill_Date                                                           \n",
              "2016-01-01         247.73           NaN            NaN           NaN\n",
              "2016-02-01         234.11           NaN            NaN    247.730000\n",
              "2016-03-01         123.85           NaN            NaN    240.920000\n",
              "2016-04-01         111.22    201.896667     181.250000    182.385000\n",
              "2016-05-01         118.37    156.393333     135.911667    146.802500\n",
              "2016-06-01          77.81    117.813333     116.900000    132.586250\n",
              "2016-07-01          86.67    102.466667      96.898333    105.198125\n",
              "2016-08-01         122.40     94.283333      89.000000     95.934063\n",
              "2016-09-01         223.62     95.626667     103.058333    109.167031\n",
              "2016-10-01         152.54    144.230000     167.055000    166.393516\n",
              "2016-11-01         150.54    166.186667     171.210000    159.466758\n",
              "2016-12-01         244.37    175.566667     163.386667    155.003379\n",
              "2017-01-01         263.64    182.483333     197.788333    199.686689\n",
              "2017-02-01         214.32    219.516667     238.366667    231.663345\n",
              "2017-03-01         151.54    240.776667     235.768333    222.991672\n",
              "2017-04-01         118.79    209.833333     191.150000    187.265836\n",
              "2017-05-01         153.18    161.550000     145.628333    153.027918\n",
              "2017-06-01         212.08    141.170000     141.443333    153.103959\n",
              "2017-07-01         281.19    161.350000     176.898333    182.591980\n",
              "2017-08-01         237.97    215.483333     236.818333    231.890990\n",
              "2017-09-01         284.30    243.746667     248.061667    234.930495\n",
              "2017-10-01         172.69    267.820000     268.338333    259.615247\n",
              "2017-11-01         111.51    231.653333     220.773333    216.152624\n",
              "2017-12-01         151.42    189.500000     160.701667    163.831312\n",
              "2018-01-01         267.32    145.206667     141.661667    157.625656\n",
              "2018-02-01         201.35    176.750000     202.718333    212.472828\n",
              "2018-03-01         202.91    206.696667     215.018333    206.911414\n",
              "2018-04-01         150.86    223.860000     213.125000    204.910707\n",
              "2018-05-01         163.07    185.040000     176.625000    177.885353\n",
              "2018-06-01         219.76    172.280000     165.640000    170.477677\n",
              "2018-07-01         283.98    177.896667     189.380000    195.118838\n",
              "2018-08-01         290.15    222.270000     242.421667    239.549419\n",
              "2018-09-01         257.96    264.630000     276.361667    264.849710\n",
              "2018-10-01         327.19    277.363333     273.026667    261.404855\n",
              "2018-11-01         193.49    291.766667     297.940000    294.297427\n",
              "2018-12-01         152.34    259.546667     248.801667    243.893714"
            ]
          },
          "metadata": {
            "tags": []
          },
          "execution_count": 29
        }
      ]
    },
    {
      "cell_type": "code",
      "metadata": {
        "id": "I7WgyKNM1khv",
        "colab_type": "code",
        "colab": {}
      },
      "source": [
        "bill_2018.plot()"
      ],
      "execution_count": null,
      "outputs": []
    },
    {
      "cell_type": "markdown",
      "metadata": {
        "id": "9Vzp6QvV2cmx",
        "colab_type": "text"
      },
      "source": [
        "Exponential Smoothing"
      ]
    },
    {
      "cell_type": "code",
      "metadata": {
        "id": "pDm4kcBu1oUR",
        "colab_type": "code",
        "colab": {
          "base_uri": "https://localhost:8080/",
          "height": 663
        },
        "outputId": "c1354718-9061-4673-d292-edca6757daee"
      },
      "source": [
        "bill_2018['Billed_amount'].ewm(alpha=0.7, adjust=False, min_periods=3).mean()"
      ],
      "execution_count": 32,
      "outputs": [
        {
          "output_type": "execute_result",
          "data": {
            "text/plain": [
              "Bill_Date\n",
              "2016-01-01           NaN\n",
              "2016-02-01           NaN\n",
              "2016-03-01    158.153800\n",
              "2016-04-01    125.300140\n",
              "2016-05-01    120.449042\n",
              "2016-06-01     90.601713\n",
              "2016-07-01     87.849514\n",
              "2016-08-01    112.034854\n",
              "2016-09-01    190.144456\n",
              "2016-10-01    163.821337\n",
              "2016-11-01    154.524401\n",
              "2016-12-01    217.416320\n",
              "2017-01-01    249.772896\n",
              "2017-02-01    224.955869\n",
              "2017-03-01    173.564761\n",
              "2017-04-01    135.222428\n",
              "2017-05-01    147.792728\n",
              "2017-06-01    192.793819\n",
              "2017-07-01    254.671146\n",
              "2017-08-01    242.980344\n",
              "2017-09-01    271.904103\n",
              "2017-10-01    202.454231\n",
              "2017-11-01    138.793269\n",
              "2017-12-01    147.631981\n",
              "2018-01-01    231.413594\n",
              "2018-02-01    210.369078\n",
              "2018-03-01    205.147723\n",
              "2018-04-01    167.146317\n",
              "2018-05-01    164.292895\n",
              "2018-06-01    203.119869\n",
              "2018-07-01    259.721961\n",
              "2018-08-01    281.021588\n",
              "2018-09-01    264.878476\n",
              "2018-10-01    308.496543\n",
              "2018-11-01    227.991963\n",
              "2018-12-01    175.035589\n",
              "Name: Billed_amount, dtype: float64"
            ]
          },
          "metadata": {
            "tags": []
          },
          "execution_count": 32
        }
      ]
    },
    {
      "cell_type": "code",
      "metadata": {
        "id": "D965gCBx437V",
        "colab_type": "code",
        "colab": {}
      },
      "source": [
        "bill_2018['esm_window_3_7'] = bill_2018['Billed_amount'].ewm(alpha=0.7, adjust=False,\n",
        "                                                             min_periods=3).mean().shift(1)"
      ],
      "execution_count": 35,
      "outputs": []
    },
    {
      "cell_type": "code",
      "metadata": {
        "id": "WqAwIHLV5T8h",
        "colab_type": "code",
        "colab": {
          "base_uri": "https://localhost:8080/",
          "height": 1000
        },
        "outputId": "f940cd7f-37b1-494e-9071-0617a7334a2d"
      },
      "source": [
        "bill_2018"
      ],
      "execution_count": 37,
      "outputs": [
        {
          "output_type": "execute_result",
          "data": {
            "text/html": [
              "<div>\n",
              "<style scoped>\n",
              "    .dataframe tbody tr th:only-of-type {\n",
              "        vertical-align: middle;\n",
              "    }\n",
              "\n",
              "    .dataframe tbody tr th {\n",
              "        vertical-align: top;\n",
              "    }\n",
              "\n",
              "    .dataframe thead th {\n",
              "        text-align: right;\n",
              "    }\n",
              "</style>\n",
              "<table border=\"1\" class=\"dataframe\">\n",
              "  <thead>\n",
              "    <tr style=\"text-align: right;\">\n",
              "      <th></th>\n",
              "      <th>Billed_amount</th>\n",
              "      <th>ma_rolling_3</th>\n",
              "      <th>wma_rolling_3</th>\n",
              "      <th>ewm_window_3</th>\n",
              "      <th>esm_window_3_7</th>\n",
              "    </tr>\n",
              "    <tr>\n",
              "      <th>Bill_Date</th>\n",
              "      <th></th>\n",
              "      <th></th>\n",
              "      <th></th>\n",
              "      <th></th>\n",
              "      <th></th>\n",
              "    </tr>\n",
              "  </thead>\n",
              "  <tbody>\n",
              "    <tr>\n",
              "      <th>2016-01-01</th>\n",
              "      <td>247.73</td>\n",
              "      <td>NaN</td>\n",
              "      <td>NaN</td>\n",
              "      <td>NaN</td>\n",
              "      <td>NaN</td>\n",
              "    </tr>\n",
              "    <tr>\n",
              "      <th>2016-02-01</th>\n",
              "      <td>234.11</td>\n",
              "      <td>NaN</td>\n",
              "      <td>NaN</td>\n",
              "      <td>247.730000</td>\n",
              "      <td>NaN</td>\n",
              "    </tr>\n",
              "    <tr>\n",
              "      <th>2016-03-01</th>\n",
              "      <td>123.85</td>\n",
              "      <td>NaN</td>\n",
              "      <td>NaN</td>\n",
              "      <td>240.920000</td>\n",
              "      <td>NaN</td>\n",
              "    </tr>\n",
              "    <tr>\n",
              "      <th>2016-04-01</th>\n",
              "      <td>111.22</td>\n",
              "      <td>201.896667</td>\n",
              "      <td>181.250000</td>\n",
              "      <td>182.385000</td>\n",
              "      <td>158.153800</td>\n",
              "    </tr>\n",
              "    <tr>\n",
              "      <th>2016-05-01</th>\n",
              "      <td>118.37</td>\n",
              "      <td>156.393333</td>\n",
              "      <td>135.911667</td>\n",
              "      <td>146.802500</td>\n",
              "      <td>125.300140</td>\n",
              "    </tr>\n",
              "    <tr>\n",
              "      <th>2016-06-01</th>\n",
              "      <td>77.81</td>\n",
              "      <td>117.813333</td>\n",
              "      <td>116.900000</td>\n",
              "      <td>132.586250</td>\n",
              "      <td>120.449042</td>\n",
              "    </tr>\n",
              "    <tr>\n",
              "      <th>2016-07-01</th>\n",
              "      <td>86.67</td>\n",
              "      <td>102.466667</td>\n",
              "      <td>96.898333</td>\n",
              "      <td>105.198125</td>\n",
              "      <td>90.601713</td>\n",
              "    </tr>\n",
              "    <tr>\n",
              "      <th>2016-08-01</th>\n",
              "      <td>122.40</td>\n",
              "      <td>94.283333</td>\n",
              "      <td>89.000000</td>\n",
              "      <td>95.934063</td>\n",
              "      <td>87.849514</td>\n",
              "    </tr>\n",
              "    <tr>\n",
              "      <th>2016-09-01</th>\n",
              "      <td>223.62</td>\n",
              "      <td>95.626667</td>\n",
              "      <td>103.058333</td>\n",
              "      <td>109.167031</td>\n",
              "      <td>112.034854</td>\n",
              "    </tr>\n",
              "    <tr>\n",
              "      <th>2016-10-01</th>\n",
              "      <td>152.54</td>\n",
              "      <td>144.230000</td>\n",
              "      <td>167.055000</td>\n",
              "      <td>166.393516</td>\n",
              "      <td>190.144456</td>\n",
              "    </tr>\n",
              "    <tr>\n",
              "      <th>2016-11-01</th>\n",
              "      <td>150.54</td>\n",
              "      <td>166.186667</td>\n",
              "      <td>171.210000</td>\n",
              "      <td>159.466758</td>\n",
              "      <td>163.821337</td>\n",
              "    </tr>\n",
              "    <tr>\n",
              "      <th>2016-12-01</th>\n",
              "      <td>244.37</td>\n",
              "      <td>175.566667</td>\n",
              "      <td>163.386667</td>\n",
              "      <td>155.003379</td>\n",
              "      <td>154.524401</td>\n",
              "    </tr>\n",
              "    <tr>\n",
              "      <th>2017-01-01</th>\n",
              "      <td>263.64</td>\n",
              "      <td>182.483333</td>\n",
              "      <td>197.788333</td>\n",
              "      <td>199.686689</td>\n",
              "      <td>217.416320</td>\n",
              "    </tr>\n",
              "    <tr>\n",
              "      <th>2017-02-01</th>\n",
              "      <td>214.32</td>\n",
              "      <td>219.516667</td>\n",
              "      <td>238.366667</td>\n",
              "      <td>231.663345</td>\n",
              "      <td>249.772896</td>\n",
              "    </tr>\n",
              "    <tr>\n",
              "      <th>2017-03-01</th>\n",
              "      <td>151.54</td>\n",
              "      <td>240.776667</td>\n",
              "      <td>235.768333</td>\n",
              "      <td>222.991672</td>\n",
              "      <td>224.955869</td>\n",
              "    </tr>\n",
              "    <tr>\n",
              "      <th>2017-04-01</th>\n",
              "      <td>118.79</td>\n",
              "      <td>209.833333</td>\n",
              "      <td>191.150000</td>\n",
              "      <td>187.265836</td>\n",
              "      <td>173.564761</td>\n",
              "    </tr>\n",
              "    <tr>\n",
              "      <th>2017-05-01</th>\n",
              "      <td>153.18</td>\n",
              "      <td>161.550000</td>\n",
              "      <td>145.628333</td>\n",
              "      <td>153.027918</td>\n",
              "      <td>135.222428</td>\n",
              "    </tr>\n",
              "    <tr>\n",
              "      <th>2017-06-01</th>\n",
              "      <td>212.08</td>\n",
              "      <td>141.170000</td>\n",
              "      <td>141.443333</td>\n",
              "      <td>153.103959</td>\n",
              "      <td>147.792728</td>\n",
              "    </tr>\n",
              "    <tr>\n",
              "      <th>2017-07-01</th>\n",
              "      <td>281.19</td>\n",
              "      <td>161.350000</td>\n",
              "      <td>176.898333</td>\n",
              "      <td>182.591980</td>\n",
              "      <td>192.793819</td>\n",
              "    </tr>\n",
              "    <tr>\n",
              "      <th>2017-08-01</th>\n",
              "      <td>237.97</td>\n",
              "      <td>215.483333</td>\n",
              "      <td>236.818333</td>\n",
              "      <td>231.890990</td>\n",
              "      <td>254.671146</td>\n",
              "    </tr>\n",
              "    <tr>\n",
              "      <th>2017-09-01</th>\n",
              "      <td>284.30</td>\n",
              "      <td>243.746667</td>\n",
              "      <td>248.061667</td>\n",
              "      <td>234.930495</td>\n",
              "      <td>242.980344</td>\n",
              "    </tr>\n",
              "    <tr>\n",
              "      <th>2017-10-01</th>\n",
              "      <td>172.69</td>\n",
              "      <td>267.820000</td>\n",
              "      <td>268.338333</td>\n",
              "      <td>259.615247</td>\n",
              "      <td>271.904103</td>\n",
              "    </tr>\n",
              "    <tr>\n",
              "      <th>2017-11-01</th>\n",
              "      <td>111.51</td>\n",
              "      <td>231.653333</td>\n",
              "      <td>220.773333</td>\n",
              "      <td>216.152624</td>\n",
              "      <td>202.454231</td>\n",
              "    </tr>\n",
              "    <tr>\n",
              "      <th>2017-12-01</th>\n",
              "      <td>151.42</td>\n",
              "      <td>189.500000</td>\n",
              "      <td>160.701667</td>\n",
              "      <td>163.831312</td>\n",
              "      <td>138.793269</td>\n",
              "    </tr>\n",
              "    <tr>\n",
              "      <th>2018-01-01</th>\n",
              "      <td>267.32</td>\n",
              "      <td>145.206667</td>\n",
              "      <td>141.661667</td>\n",
              "      <td>157.625656</td>\n",
              "      <td>147.631981</td>\n",
              "    </tr>\n",
              "    <tr>\n",
              "      <th>2018-02-01</th>\n",
              "      <td>201.35</td>\n",
              "      <td>176.750000</td>\n",
              "      <td>202.718333</td>\n",
              "      <td>212.472828</td>\n",
              "      <td>231.413594</td>\n",
              "    </tr>\n",
              "    <tr>\n",
              "      <th>2018-03-01</th>\n",
              "      <td>202.91</td>\n",
              "      <td>206.696667</td>\n",
              "      <td>215.018333</td>\n",
              "      <td>206.911414</td>\n",
              "      <td>210.369078</td>\n",
              "    </tr>\n",
              "    <tr>\n",
              "      <th>2018-04-01</th>\n",
              "      <td>150.86</td>\n",
              "      <td>223.860000</td>\n",
              "      <td>213.125000</td>\n",
              "      <td>204.910707</td>\n",
              "      <td>205.147723</td>\n",
              "    </tr>\n",
              "    <tr>\n",
              "      <th>2018-05-01</th>\n",
              "      <td>163.07</td>\n",
              "      <td>185.040000</td>\n",
              "      <td>176.625000</td>\n",
              "      <td>177.885353</td>\n",
              "      <td>167.146317</td>\n",
              "    </tr>\n",
              "    <tr>\n",
              "      <th>2018-06-01</th>\n",
              "      <td>219.76</td>\n",
              "      <td>172.280000</td>\n",
              "      <td>165.640000</td>\n",
              "      <td>170.477677</td>\n",
              "      <td>164.292895</td>\n",
              "    </tr>\n",
              "    <tr>\n",
              "      <th>2018-07-01</th>\n",
              "      <td>283.98</td>\n",
              "      <td>177.896667</td>\n",
              "      <td>189.380000</td>\n",
              "      <td>195.118838</td>\n",
              "      <td>203.119869</td>\n",
              "    </tr>\n",
              "    <tr>\n",
              "      <th>2018-08-01</th>\n",
              "      <td>290.15</td>\n",
              "      <td>222.270000</td>\n",
              "      <td>242.421667</td>\n",
              "      <td>239.549419</td>\n",
              "      <td>259.721961</td>\n",
              "    </tr>\n",
              "    <tr>\n",
              "      <th>2018-09-01</th>\n",
              "      <td>257.96</td>\n",
              "      <td>264.630000</td>\n",
              "      <td>276.361667</td>\n",
              "      <td>264.849710</td>\n",
              "      <td>281.021588</td>\n",
              "    </tr>\n",
              "    <tr>\n",
              "      <th>2018-10-01</th>\n",
              "      <td>327.19</td>\n",
              "      <td>277.363333</td>\n",
              "      <td>273.026667</td>\n",
              "      <td>261.404855</td>\n",
              "      <td>264.878476</td>\n",
              "    </tr>\n",
              "    <tr>\n",
              "      <th>2018-11-01</th>\n",
              "      <td>193.49</td>\n",
              "      <td>291.766667</td>\n",
              "      <td>297.940000</td>\n",
              "      <td>294.297427</td>\n",
              "      <td>308.496543</td>\n",
              "    </tr>\n",
              "    <tr>\n",
              "      <th>2018-12-01</th>\n",
              "      <td>152.34</td>\n",
              "      <td>259.546667</td>\n",
              "      <td>248.801667</td>\n",
              "      <td>243.893714</td>\n",
              "      <td>227.991963</td>\n",
              "    </tr>\n",
              "  </tbody>\n",
              "</table>\n",
              "</div>"
            ],
            "text/plain": [
              "            Billed_amount  ma_rolling_3  ...  ewm_window_3  esm_window_3_7\n",
              "Bill_Date                                ...                              \n",
              "2016-01-01         247.73           NaN  ...           NaN             NaN\n",
              "2016-02-01         234.11           NaN  ...    247.730000             NaN\n",
              "2016-03-01         123.85           NaN  ...    240.920000             NaN\n",
              "2016-04-01         111.22    201.896667  ...    182.385000      158.153800\n",
              "2016-05-01         118.37    156.393333  ...    146.802500      125.300140\n",
              "2016-06-01          77.81    117.813333  ...    132.586250      120.449042\n",
              "2016-07-01          86.67    102.466667  ...    105.198125       90.601713\n",
              "2016-08-01         122.40     94.283333  ...     95.934063       87.849514\n",
              "2016-09-01         223.62     95.626667  ...    109.167031      112.034854\n",
              "2016-10-01         152.54    144.230000  ...    166.393516      190.144456\n",
              "2016-11-01         150.54    166.186667  ...    159.466758      163.821337\n",
              "2016-12-01         244.37    175.566667  ...    155.003379      154.524401\n",
              "2017-01-01         263.64    182.483333  ...    199.686689      217.416320\n",
              "2017-02-01         214.32    219.516667  ...    231.663345      249.772896\n",
              "2017-03-01         151.54    240.776667  ...    222.991672      224.955869\n",
              "2017-04-01         118.79    209.833333  ...    187.265836      173.564761\n",
              "2017-05-01         153.18    161.550000  ...    153.027918      135.222428\n",
              "2017-06-01         212.08    141.170000  ...    153.103959      147.792728\n",
              "2017-07-01         281.19    161.350000  ...    182.591980      192.793819\n",
              "2017-08-01         237.97    215.483333  ...    231.890990      254.671146\n",
              "2017-09-01         284.30    243.746667  ...    234.930495      242.980344\n",
              "2017-10-01         172.69    267.820000  ...    259.615247      271.904103\n",
              "2017-11-01         111.51    231.653333  ...    216.152624      202.454231\n",
              "2017-12-01         151.42    189.500000  ...    163.831312      138.793269\n",
              "2018-01-01         267.32    145.206667  ...    157.625656      147.631981\n",
              "2018-02-01         201.35    176.750000  ...    212.472828      231.413594\n",
              "2018-03-01         202.91    206.696667  ...    206.911414      210.369078\n",
              "2018-04-01         150.86    223.860000  ...    204.910707      205.147723\n",
              "2018-05-01         163.07    185.040000  ...    177.885353      167.146317\n",
              "2018-06-01         219.76    172.280000  ...    170.477677      164.292895\n",
              "2018-07-01         283.98    177.896667  ...    195.118838      203.119869\n",
              "2018-08-01         290.15    222.270000  ...    239.549419      259.721961\n",
              "2018-09-01         257.96    264.630000  ...    264.849710      281.021588\n",
              "2018-10-01         327.19    277.363333  ...    261.404855      264.878476\n",
              "2018-11-01         193.49    291.766667  ...    294.297427      308.496543\n",
              "2018-12-01         152.34    259.546667  ...    243.893714      227.991963\n",
              "\n",
              "[36 rows x 5 columns]"
            ]
          },
          "metadata": {
            "tags": []
          },
          "execution_count": 37
        }
      ]
    },
    {
      "cell_type": "code",
      "metadata": {
        "id": "C-KblTbG5dj7",
        "colab_type": "code",
        "colab": {
          "base_uri": "https://localhost:8080/",
          "height": 309
        },
        "outputId": "bd344c4c-e468-4810-aed6-18e34a884b69"
      },
      "source": [
        "bill_2018[['Billed_amount', 'esm_window_3_7']].plot()"
      ],
      "execution_count": 38,
      "outputs": [
        {
          "output_type": "execute_result",
          "data": {
            "text/plain": [
              "<matplotlib.axes._subplots.AxesSubplot at 0x7f4a3b8ec828>"
            ]
          },
          "metadata": {
            "tags": []
          },
          "execution_count": 38
        },
        {
          "output_type": "display_data",
          "data": {
            "image/png": "[encoded data removed]",
            "text/plain": [
              "<Figure size 432x288 with 1 Axes>"
            ]
          },
          "metadata": {
            "tags": [],
            "needs_background": "light"
          }
        }
      ]
    },
    {
      "cell_type": "code",
      "metadata": {
        "id": "-7cwQ80-5o09",
        "colab_type": "code",
        "colab": {
          "base_uri": "https://localhost:8080/",
          "height": 663
        },
        "outputId": "49b0cdd6-52e6-4ea1-819a-a50bef9c7943"
      },
      "source": [
        "bill_2018['Billed_amount'].ewm(alpha=0.3, adjust=False, min_periods=3).mean()"
      ],
      "execution_count": 39,
      "outputs": [
        {
          "output_type": "execute_result",
          "data": {
            "text/plain": [
              "Bill_Date\n",
              "2016-01-01           NaN\n",
              "2016-02-01           NaN\n",
              "2016-03-01    207.705800\n",
              "2016-04-01    178.760060\n",
              "2016-05-01    160.643042\n",
              "2016-06-01    135.793129\n",
              "2016-07-01    121.056191\n",
              "2016-08-01    121.459333\n",
              "2016-09-01    152.107533\n",
              "2016-10-01    152.237273\n",
              "2016-11-01    151.728091\n",
              "2016-12-01    179.520664\n",
              "2017-01-01    204.756465\n",
              "2017-02-01    207.625525\n",
              "2017-03-01    190.799868\n",
              "2017-04-01    169.196907\n",
              "2017-05-01    164.391835\n",
              "2017-06-01    178.698285\n",
              "2017-07-01    209.445799\n",
              "2017-08-01    218.003059\n",
              "2017-09-01    237.892142\n",
              "2017-10-01    218.331499\n",
              "2017-11-01    186.285049\n",
              "2017-12-01    175.825535\n",
              "2018-01-01    203.273874\n",
              "2018-02-01    202.696712\n",
              "2018-03-01    202.760698\n",
              "2018-04-01    187.190489\n",
              "2018-05-01    179.954342\n",
              "2018-06-01    191.896040\n",
              "2018-07-01    219.521228\n",
              "2018-08-01    240.709859\n",
              "2018-09-01    245.884902\n",
              "2018-10-01    270.276431\n",
              "2018-11-01    247.240502\n",
              "2018-12-01    218.770351\n",
              "Name: Billed_amount, dtype: float64"
            ]
          },
          "metadata": {
            "tags": []
          },
          "execution_count": 39
        }
      ]
    },
    {
      "cell_type": "code",
      "metadata": {
        "id": "EDL8vK0_6YTu",
        "colab_type": "code",
        "colab": {}
      },
      "source": [
        "bill_2018['esm_window_3_3'] = bill_2018['Billed_amount'].ewm(alpha=0.3, adjust=False,\n",
        "                                                             min_periods=3).mean().shift(1)"
      ],
      "execution_count": 40,
      "outputs": []
    },
    {
      "cell_type": "code",
      "metadata": {
        "id": "BPm0FyPP6h5_",
        "colab_type": "code",
        "colab": {
          "base_uri": "https://localhost:8080/",
          "height": 309
        },
        "outputId": "287aa1ec-5378-4780-edce-2b94aacd4b92"
      },
      "source": [
        "bill_2018[['Billed_amount', 'esm_window_3_7', 'esm_window_3_3']].plot()"
      ],
      "execution_count": 41,
      "outputs": [
        {
          "output_type": "execute_result",
          "data": {
            "text/plain": [
              "<matplotlib.axes._subplots.AxesSubplot at 0x7f4a3a38ce10>"
            ]
          },
          "metadata": {
            "tags": []
          },
          "execution_count": 41
        },
        {
          "output_type": "display_data",
          "data": {
            "image/png": "[encoded data removed]",
            "text/plain": [
              "<Figure size 432x288 with 1 Axes>"
            ]
          },
          "metadata": {
            "tags": [],
            "needs_background": "light"
          }
        }
      ]
    },
    {
      "cell_type": "markdown",
      "metadata": {
        "id": "wK7nQg-Z6_O4",
        "colab_type": "text"
      },
      "source": [
        "Calculating RMSE"
      ]
    },
    {
      "cell_type": "code",
      "metadata": {
        "id": "ivM9nxfL6n0a",
        "colab_type": "code",
        "colab": {
          "base_uri": "https://localhost:8080/",
          "height": 34
        },
        "outputId": "4745bc05-48b8-4f5a-e31f-f414d700a25f"
      },
      "source": [
        "((bill_2018['Billed_amount']-bill_2018['ma_rolling_3'])**2).mean()**0.5"
      ],
      "execution_count": 42,
      "outputs": [
        {
          "output_type": "execute_result",
          "data": {
            "text/plain": [
              "70.98561687433802"
            ]
          },
          "metadata": {
            "tags": []
          },
          "execution_count": 42
        }
      ]
    },
    {
      "cell_type": "code",
      "metadata": {
        "id": "tewkMudO7Q-C",
        "colab_type": "code",
        "colab": {
          "base_uri": "https://localhost:8080/",
          "height": 34
        },
        "outputId": "169424c6-c3b2-446d-e012-96ecb9ccc925"
      },
      "source": [
        "((bill_2018['Billed_amount']-bill_2018['wma_rolling_3'])**2).mean()**0.5"
      ],
      "execution_count": 44,
      "outputs": [
        {
          "output_type": "execute_result",
          "data": {
            "text/plain": [
              "65.82572602256133"
            ]
          },
          "metadata": {
            "tags": []
          },
          "execution_count": 44
        }
      ]
    },
    {
      "cell_type": "code",
      "metadata": {
        "id": "-GcFh4Uh7UaI",
        "colab_type": "code",
        "colab": {
          "base_uri": "https://localhost:8080/",
          "height": 34
        },
        "outputId": "5f8e480f-6e62-4d06-ffce-a53de5a081b6"
      },
      "source": [
        "((bill_2018['Billed_amount']-bill_2018['ewm_window_3'])**2).mean()**0.5"
      ],
      "execution_count": 47,
      "outputs": [
        {
          "output_type": "execute_result",
          "data": {
            "text/plain": [
              "64.32131239414655"
            ]
          },
          "metadata": {
            "tags": []
          },
          "execution_count": 47
        }
      ]
    },
    {
      "cell_type": "code",
      "metadata": {
        "id": "z6VJ6C7k7iwN",
        "colab_type": "code",
        "colab": {
          "base_uri": "https://localhost:8080/",
          "height": 34
        },
        "outputId": "1de4643b-577e-4669-d99d-8b015c8bb571"
      },
      "source": [
        "((bill_2018['Billed_amount']-bill_2018['esm_window_3_7'])**2).mean()**0.5"
      ],
      "execution_count": 48,
      "outputs": [
        {
          "output_type": "execute_result",
          "data": {
            "text/plain": [
              "61.26408398853503"
            ]
          },
          "metadata": {
            "tags": []
          },
          "execution_count": 48
        }
      ]
    },
    {
      "cell_type": "code",
      "metadata": {
        "id": "PPQ-IyE77y-v",
        "colab_type": "code",
        "colab": {
          "base_uri": "https://localhost:8080/",
          "height": 34
        },
        "outputId": "e5da547c-3f22-4e0b-ed85-c273b0939bc9"
      },
      "source": [
        "((bill_2018['Billed_amount']-bill_2018['esm_window_3_3'])**2).mean()**0.5"
      ],
      "execution_count": 49,
      "outputs": [
        {
          "output_type": "execute_result",
          "data": {
            "text/plain": [
              "65.22424423118377"
            ]
          },
          "metadata": {
            "tags": []
          },
          "execution_count": 49
        }
      ]
    }
  ]
}